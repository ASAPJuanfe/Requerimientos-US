{
 "cells": [
  {
   "cell_type": "code",
   "execution_count": null,
   "metadata": {},
   "outputs": [],
   "source": [
    "import requests\n",
    "\n",
    "url = \"https://v6.exchangerate-api.com/v6/3d72dc2fc8ee5b2711095b49/latest/USD\"\n",
    "\n",
    "# Hacer la solicitud GET\n",
    "response = requests.get(url)\n",
    "\n",
    "# Comprobar si la solicitud fue exitosa\n",
    "if response.status_code == 200:\n",
    "    data = response.json()\n",
    "    \n",
    "    # Extraer los tipos de cambio desde la respuesta\n",
    "    rates = data.get('conversion_rates', {})\n",
    "    \n",
    "    # Mostrar el tipo de cambio de USD a EUR (puedes cambiar 'EUR' por cualquier moneda que necesites)\n",
    "    print(f\"1 USD = {rates.get('EUR', 'Moneda no encontrada')} EUR\")\n",
    "else:\n",
    "    print(\"Error al obtener los datos\")\n"
   ]
  }
 ],
 "metadata": {
  "language_info": {
   "name": "python"
  }
 },
 "nbformat": 4,
 "nbformat_minor": 2
}
